{
 "cells": [
  {
   "cell_type": "code",
   "execution_count": 1,
   "metadata": {},
   "outputs": [],
   "source": [
    "#Ensure that multiple outputs can be displayed below a single cell \n",
    "from IPython.core.interactiveshell import InteractiveShell\n",
    "InteractiveShell.ast_node_interactivity = \"all\""
   ]
  },
  {
   "cell_type": "code",
   "execution_count": null,
   "metadata": {},
   "outputs": [],
   "source": [
    "### Define useful vars for the project\n",
    "\n",
    "USERDIR=\"/Users/johnalanwillis/Documents/ilc-nodalMet-ML/ilc-nodalMet-ML/\"\n",
    "DATALOC=USERDIR+\"/datasets\"\n",
    "DATASET1=\"histopathologic-cancer-detection\"\n",
    "\n",
    "\n",
    "## With the data unzipped in the appropriate location, begin exploring the datasets in python\n",
    "import numpy as np\n",
    "import pandas as pd\n",
    "import matplotlib.pyplot as plt\n",
    "import os\n",
    "\n",
    "#review the sample and label data\\\n",
    "\n",
    "trainLabs=pd.read_csv(\"train_labels.csv\")\n",
    "trainLabs.head()\n",
    "\n",
    "sampleSub=pd.read_csv(\"sample_submission.csv\")\n",
    "sampleSub.head()\n",
    "\n",
    "\n"
   ]
  },
  {
   "cell_type": "code",
   "execution_count": null,
   "metadata": {},
   "outputs": [],
   "source": [
    "## begin by loading a small subset of the patches in the kaggle dataset\n",
    "\n",
    "import glob\n",
    "testFilesLoc=\"/Users/johnalanwillis/Documents/ilc-nodalMet-ML/ilc-nodalMet-ML/datasets/test\"\n",
    "\n",
    "\n",
    "imlocs = [f for f in glob.glob(testFilesLoc+\"/*.tif\")]\n",
    "imlocs_small=imlocs[0:6]\n",
    "imlocs_small\n",
    "\n",
    "imfiles_small=[]\n",
    "\n",
    "for imloc in imlocs_small: \n",
    "    imfiles_small.append(io.imread(imloc))\n",
    "    \n",
    "imfiles_small[1]\n",
    "plt.imshow(imfiles_small[0])"
   ]
  },
  {
   "cell_type": "code",
   "execution_count": null,
   "metadata": {},
   "outputs": [],
   "source": []
  }
 ],
 "metadata": {
  "kernelspec": {
   "display_name": "Python 3",
   "language": "python",
   "name": "python3"
  },
  "language_info": {
   "codemirror_mode": {
    "name": "ipython",
    "version": 3
   },
   "file_extension": ".py",
   "mimetype": "text/x-python",
   "name": "python",
   "nbconvert_exporter": "python",
   "pygments_lexer": "ipython3",
   "version": "3.8.5"
  }
 },
 "nbformat": 4,
 "nbformat_minor": 4
}
