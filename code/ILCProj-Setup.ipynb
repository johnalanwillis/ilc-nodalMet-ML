{
 "cells": [
  {
   "cell_type": "code",
   "execution_count": 70,
   "id": "frozen-emperor",
   "metadata": {},
   "outputs": [
    {
     "name": "stdout",
     "output_type": "stream",
     "text": [
      "/home/jupyter\n",
      "histopathologic-cancer-detection.zip\n",
      "sample_submission.csv\n",
      "test\n",
      "train\n",
      "train_labels.csv\n",
      "gs://ilcproj-data/histopathologic-cancer-detection.zip\n",
      "gs://ilcproj-data/datasets/\n",
      "gs://ilcproj-data/results/\n",
      "gs://ilcproj-data/scripts/\n",
      "histopathologic-cancer-detection is unzipped and ready for use in ../rechnercopf/datasets\n"
     ]
    }
   ],
   "source": [
    "%%bash\n",
    "## Begin by preparing the VM and the data used for the training\n",
    "### Run this cell in the bash shell to explore the virtual machine and prepare the project structure\n",
    "set -e\n",
    "\n",
    "### Define useful vars for the project\n",
    "#### Note that BASH Vars defined in a cell with the %%bash flag only persist within the cell's terminal\n",
    "USERDIR=\"/home/rechnercopf\"\n",
    "DATALOC=\"${USERDIR}\"\"/datasets\"\n",
    "DATASET1=\"histopathologic-cancer-detection\"\n",
    "\n",
    "### explore the directory structure and setup data directories\n",
    "pwd\n",
    "ls \"${DATALOC}\"\n",
    "\n",
    "if [[ -f \"${DATALOC}\" ]]\n",
    "then mkdir \"${DATALOC}\"\n",
    "fi\n",
    "\n",
    "### review the contents of the project data storage bucket\n",
    "gsutil ls gs://ilcproj-data\n",
    "\n",
    "    \n",
    "\n",
    "\n",
    "### copy datasets of interest to the VM instance if not already done\n",
    "\n",
    "if [[ ! -f \"${DATALOC}\"\"/\"\"${DATASET1}\"\".zip\" ]]\n",
    "then sudo gsutil cp gs://ilcproj-data/histopathologic-cancer-detection.zip \"${DATALOC}\"\n",
    "fi\n",
    "\n",
    "\n",
    "### unzip the data to work with it\n",
    "\n",
    "if [[ ! -f \"${DATALOC}\"\"/sample_submission.csv\" ]] \n",
    "then sudo unzip ../rechnercopf/datasets/histopathologic-cancer-detection.zip\n",
    "else\n",
    "echo \"${DATASET1}\"\" is unzipped and ready for use in \"\"${DATALOC}\"\n",
    "fi"
   ]
  },
  {
   "cell_type": "code",
   "execution_count": null,
   "id": "supported-hurricane",
   "metadata": {},
   "outputs": [],
   "source": [
    "## With the data unzipped in the appropriate location, begin exploring the datasets in python\n",
    "import numpy as np\n",
    "import pandas as pd\n",
    "import os"
   ]
  }
 ],
 "metadata": {
  "environment": {
   "name": "tf2-cpu.2-4.mnightly-2021-02-02-debian-10-test",
   "type": "gcloud",
   "uri": "gcr.io/deeplearning-platform-release/tf2-cpu.2-4:mnightly-2021-02-02-debian-10-test"
  },
  "kernelspec": {
   "display_name": "Python 3",
   "language": "python",
   "name": "python3"
  },
  "language_info": {
   "codemirror_mode": {
    "name": "ipython",
    "version": 3
   },
   "file_extension": ".py",
   "mimetype": "text/x-python",
   "name": "python",
   "nbconvert_exporter": "python",
   "pygments_lexer": "ipython3",
   "version": "3.7.9"
  }
 },
 "nbformat": 4,
 "nbformat_minor": 5
}
