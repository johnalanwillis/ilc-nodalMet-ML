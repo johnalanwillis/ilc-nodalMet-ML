{
 "cells": [
  {
   "cell_type": "markdown",
   "id": "local-aggregate",
   "metadata": {},
   "source": [
    "# Linear Algebra Review - Numpy"
   ]
  },
  {
   "cell_type": "markdown",
   "id": "compressed-checkout",
   "metadata": {},
   "source": [
    "## Introduction\n",
    "Images are represented in python as matrices\n",
    "The meaning of the numbers recorded in those matrices varies depending on the coordinate system employed, but the matrix is the operational form of the image\n",
    "\n",
    "Fortunately, matrix manipulation underlies much of scientific computing, so many libraries in different languages have been developed to facilitate effecient matrix computation\n",
    "`Numpy` is one such package for python: https://numpy.org/\n",
    "Numpy abstracts away much of the complexities of memory management associated with large scale matrix operations that must be explicitly managed in old-school scientific computing in C or Fortran\n",
    "\n",
    "`Scipy` builds on the `numpy` foundation by including functions that perform frequently-used matrix operations used in the sciences\n",
    "\n",
    "While numpy interface makes matrix operations straightforward, the reviewing the linear algebra that underlies much of the image processing we'll be performing is worthwhile\n",
    "\n",
    "Below I'll be reviewing both the use of numpy and demonstrating basic principles of linear algebra with it. "
   ]
  },
  {
   "cell_type": "markdown",
   "id": "fourth-incentive",
   "metadata": {},
   "source": [
    "## Index\n",
    "* [Introduction] (#Introduction)\n",
    "* [Lit and linnks] (#lit-and-links)\n",
    "* [Using Numpy] (#using-numpy)\n",
    "* [Vectors and Vector Spaces] (#vectors-and-vector-spaces)\n"
   ]
  },
  {
   "cell_type": "markdown",
   "id": "secret-faculty",
   "metadata": {},
   "source": [
    "## Using Numpy\n",
    "Numpy offers an interface for vector and matrix creation and manipulation\n"
   ]
  },
  {
   "cell_type": "markdown",
   "id": "effective-sheffield",
   "metadata": {},
   "source": [
    "### Creating Vectors\n",
    "creating a vector is simple in numpy  \n",
    "simply pass the contents of the vector as a tuple or list to the array function"
   ]
  },
  {
   "cell_type": "code",
   "execution_count": 1,
   "id": "offshore-xerox",
   "metadata": {},
   "outputs": [
    {
     "data": {
      "text/plain": [
       "array([1, 2, 3])"
      ]
     },
     "execution_count": 1,
     "metadata": {},
     "output_type": "execute_result"
    }
   ],
   "source": [
    "import numpy as np\n",
    "\n",
    "a = np.array([1,2,3])\n",
    "a"
   ]
  },
  {
   "cell_type": "code",
   "execution_count": 2,
   "id": "loaded-frontier",
   "metadata": {},
   "outputs": [
    {
     "data": {
      "text/plain": [
       "(3,)"
      ]
     },
     "execution_count": 2,
     "metadata": {},
     "output_type": "execute_result"
    }
   ],
   "source": [
    "a.shape"
   ]
  },
  {
   "cell_type": "code",
   "execution_count": 3,
   "id": "nasty-oxford",
   "metadata": {},
   "outputs": [
    {
     "data": {
      "text/plain": [
       "3"
      ]
     },
     "execution_count": 3,
     "metadata": {},
     "output_type": "execute_result"
    }
   ],
   "source": [
    "a.size"
   ]
  },
  {
   "cell_type": "code",
   "execution_count": 4,
   "id": "junior-chemistry",
   "metadata": {},
   "outputs": [
    {
     "data": {
      "text/plain": [
       "dtype('int64')"
      ]
     },
     "execution_count": 4,
     "metadata": {},
     "output_type": "execute_result"
    }
   ],
   "source": [
    "a.dtype"
   ]
  },
  {
   "cell_type": "code",
   "execution_count": 5,
   "id": "studied-upper",
   "metadata": {},
   "outputs": [
    {
     "data": {
      "text/plain": [
       "<memory at 0x7fe875594940>"
      ]
     },
     "execution_count": 5,
     "metadata": {},
     "output_type": "execute_result"
    }
   ],
   "source": [
    "a.data"
   ]
  },
  {
   "cell_type": "markdown",
   "id": "bottom-mauritius",
   "metadata": {},
   "source": [
    "As the above code shows, a *Vector* can be defined as a list of numers passed to the np.array function. \n",
    "The resulting array object has several properties:  \n",
    "> `shape` - a tuple of the dimensions of the array in (x,y)/(m,n) order  \n",
    "> `size` - an integer describing the number of elements in the array  \n",
    "> `dtype` - the underlying encoding of the numbers recorded in the array - relevant if   ranges or rounding errors are a concern  \n",
    "> `ndim` - the number of dimensions in the array  \n",
    "> `data` - the actual values recorded in the array object  \n"
   ]
  },
  {
   "cell_type": "markdown",
   "id": "interim-rochester",
   "metadata": {},
   "source": [
    "The data element of a vector can be accessed with brackets `[i]`."
   ]
  },
  {
   "cell_type": "code",
   "execution_count": 7,
   "id": "assured-plate",
   "metadata": {},
   "outputs": [
    {
     "name": "stdout",
     "output_type": "stream",
     "text": [
      "The value of element 0 of a is: 1\n",
      "The value of element 1 of a is: 2\n"
     ]
    }
   ],
   "source": [
    "print(\"The value of element 0 of a is: \"+str(a[0]))\n",
    "print(\"The value of element 1 of a is: \"+str(a[1]))"
   ]
  },
  {
   "cell_type": "markdown",
   "id": "touched-bunny",
   "metadata": {},
   "source": [
    "### Plotting Vectors in matplotlib\n",
    "Visualization can be helpful in understanding what linear operations are doing  \n",
    "using matplotlib, we can view our vectors and the results of transformations on them  \n",
    "source: https://stackoverflow.com/questions/13430231/how-i-can-get-cartesian-coordinate-system-in-matplotlib\n",
    "\n",
    "Remeber that a vector is many things\n",
    "> a collection of numbers\n",
    "> a set of distances along a coordinate axis\n",
    "> a point representing the distances along each orthogonal coordinate aspect specified \n",
    "> a line in space connecting the origin to the point in n-dimensional space\n",
    "> A solution to an infinite number of linear equations\n"
   ]
  },
  {
   "cell_type": "code",
   "execution_count": 8,
   "id": "governing-discussion",
   "metadata": {},
   "outputs": [
    {
     "data": {
      "image/png": "[encoded data removed]",
      "text/plain": [
       "<Figure size 432x288 with 1 Axes>"
      ]
     },
     "metadata": {
      "needs_background": "light"
     },
     "output_type": "display_data"
    }
   ],
   "source": [
    "from pylab import *\n",
    "import matplotlib.pyplot as plt\n",
    "\n",
    "x = [0,2,-3,-1.5]\n",
    "y = [0,3,1,-2.5]\n",
    "color=['m','g','r','b']\n",
    "\n",
    "# Select length of axes and the space between tick labels\n",
    "xmin, xmax, ymin, ymax = -5, 5, -5, 5\n",
    "ticks_frequency = 1\n",
    "\n",
    "\n",
    "fig = plt.figure()\n",
    "ax = fig.add_subplot(111)\n",
    "\n",
    "scatter(x,y, s=100 ,marker='o', c=color)\n",
    "\n",
    "[ plot( [dot_x,dot_x] ,[0,dot_y], '-', linewidth = 3 ) for dot_x,dot_y in zip(x,y) ] \n",
    "[ plot( [0,dot_x] ,[dot_y,dot_y], '-', linewidth = 3 ) for dot_x,dot_y in zip(x,y) ]\n",
    "\n",
    "left,right = ax.get_xlim()\n",
    "low,high = ax.get_ylim()\n",
    "\n",
    "\n",
    "# Set identical scales for both axes\n",
    "ax.set(xlim=(xmin-1, xmax+1), ylim=(ymin-1, ymax+1), aspect='equal')\n",
    "\n",
    "# Set bottom and left spines as x and y axes of coordinate system\n",
    "ax.spines['bottom'].set_position('zero')\n",
    "ax.spines['left'].set_position('zero')\n",
    "\n",
    "# Remove top and right spines\n",
    "ax.spines['top'].set_visible(False)\n",
    "ax.spines['right'].set_visible(False)\n",
    "\n",
    "# Create 'x' and 'y' labels placed at the end of the axes\n",
    "ax.set_xlabel('x', size=14, labelpad=-24, x=1.03)\n",
    "ax.set_ylabel('y', size=14, labelpad=-21, y=1.02, rotation=0)\n",
    "\n",
    "# Create custom major ticks to determine position of tick labels\n",
    "x_ticks = np.arange(xmin, xmax+1, ticks_frequency)\n",
    "y_ticks = np.arange(ymin, ymax+1, ticks_frequency)\n",
    "ax.set_xticks(x_ticks[x_ticks != 0])\n",
    "ax.set_yticks(y_ticks[y_ticks != 0])\n",
    "\n",
    "\n",
    "# Create minor ticks placed at each integer to enable drawing of minor grid\n",
    "# lines: note that this has no effect in this example with ticks_frequency=1\n",
    "ax.set_xticks(np.arange(xmin, xmax+1), minor=True)\n",
    "ax.set_yticks(np.arange(ymin, ymax+1), minor=True)\n",
    "\n",
    "# Draw major and minor grid lines\n",
    "ax.grid(which='both', color='grey', linewidth=1, linestyle='-', alpha=0.2)\n",
    "\n",
    "# Draw arrows\n",
    "arrow_fmt = dict(markersize=4, color='black', clip_on=False)\n",
    "ax.plot((1), (0), marker='>', transform=ax.get_yaxis_transform(), **arrow_fmt)\n",
    "ax.plot((0), (1), marker='^', transform=ax.get_xaxis_transform(), **arrow_fmt)\n",
    "\n",
    "plt.show()\n",
    "\n"
   ]
  },
  {
   "cell_type": "code",
   "execution_count": 9,
   "id": "inner-stand",
   "metadata": {},
   "outputs": [
    {
     "data": {
      "image/png": "[encoded data removed]",
      "text/plain": [
       "<Figure size 432x288 with 1 Axes>"
      ]
     },
     "metadata": {
      "needs_background": "light"
     },
     "output_type": "display_data"
    }
   ],
   "source": [
    "#below, a simplified plot displays a vector r\n",
    "\n",
    "r=(1,2)\n",
    "\n",
    "fig = plt.figure()\n",
    "ax=fig.add_subplot(111)\n",
    "\n",
    "scatter(r[0],r[1], s=100, marker = \"o\", label = \"r\")\n",
    "\n",
    "plot([r[0],0],[r[1],0], '-', linewidth = 3)\n",
    "#plot((0,2),(0,2), '-', linewidth = 3)\n",
    "#plot((2,0),(2,0), '-', linewidth = 3)\n",
    "\n",
    "\n",
    "left,right = ax.get_xlim()\n",
    "low,high = ax.get_ylim()\n",
    "#arrow( left, 0, right -left, 0, length_includes_head = True, head_width = 0.15 )\n",
    "#arrow( 0, low, 0, high-low, length_includes_head = True, head_width = 0.15 ) \n",
    "\n",
    "grid()\n",
    "\n",
    "show()"
   ]
  },
  {
   "cell_type": "markdown",
   "id": "eleven-watts",
   "metadata": {},
   "source": [
    "### Vector plotting function\n",
    "This example needs to be digested into a more general function I can use to plot vectors\n"
   ]
  },
  {
   "cell_type": "code",
   "execution_count": 10,
   "id": "australian-timing",
   "metadata": {},
   "outputs": [
    {
     "data": {
      "image/png": "[encoded data removed]",
      "text/plain": [
       "<Figure size 432x288 with 1 Axes>"
      ]
     },
     "metadata": {
      "needs_background": "light"
     },
     "output_type": "display_data"
    }
   ],
   "source": [
    "def plotVector(vector, show_Components=True, xmin=-5, ymin=-5, xmax=5,ymax=5, tick_Frequencty = 1): \n",
    "    \n",
    "    # Extract the input vector to pass into the function\n",
    "    x = vector[0]\n",
    "    y = vector[1]\n",
    "    \n",
    "    # Select length of axes and the space between tick labels\n",
    "    gridDims = [xmin, xmax, ymin, ymax]\n",
    "    ticks_frequency = 1\n",
    "\n",
    "\n",
    "    fig = plt.figure()\n",
    "    ax = fig.add_subplot(111)\n",
    "    \n",
    "    # Place the point and the line for the vector\n",
    "    scatter(x,y, s=25 ,marker='o')\n",
    "    plot([x,0],[y,0], '-', linewidth=1.5)\n",
    "    \n",
    "    if show_Components:\n",
    "        plot([x,x], [0,y], '-', linewidth=1)\n",
    "        plot([0,x], [y,y], '-', linewidth=1)\n",
    "\n",
    "    # Set identical scales for both axes\n",
    "    ax.set(xlim=(xmin-1, xmax+1), ylim=(ymin-1, ymax+1), aspect='equal')\n",
    "\n",
    "    # Set bottom and left spines as x and y axes of coordinate system\n",
    "    ax.spines['bottom'].set_position('zero')\n",
    "    ax.spines['left'].set_position('zero')\n",
    "\n",
    "    # Remove top and right spines\n",
    "    ax.spines['top'].set_visible(False)\n",
    "    ax.spines['right'].set_visible(False)\n",
    "\n",
    "    # Create 'x' and 'y' labels placed at the end of the axes\n",
    "    ax.set_xlabel('x', size=14, labelpad=-24, x=1.03)\n",
    "    ax.set_ylabel('y', size=14, labelpad=-21, y=1.02, rotation=0)\n",
    "\n",
    "    # Create custom major ticks to determine position of tick labels\n",
    "    x_ticks = np.arange(xmin, xmax+1, ticks_frequency)\n",
    "    y_ticks = np.arange(ymin, ymax+1, ticks_frequency)\n",
    "    ax.set_xticks(x_ticks[x_ticks != 0])\n",
    "    ax.set_yticks(y_ticks[y_ticks != 0])\n",
    "\n",
    "\n",
    "    # Create minor ticks placed at each integer to enable drawing of minor grid\n",
    "    # lines: note that this has no effect in this example with ticks_frequency=1\n",
    "    ax.set_xticks(np.arange(xmin, xmax+1), minor=True)\n",
    "    ax.set_yticks(np.arange(ymin, ymax+1), minor=True)\n",
    "\n",
    "    # Draw major and minor grid lines\n",
    "    ax.grid(which='both', color='grey', linewidth=1, linestyle='-', alpha=0.2)\n",
    "\n",
    "    # Draw arrows\n",
    "    arrow_fmt = dict(markersize=4, color='black', clip_on=False)\n",
    "    ax.plot((1), (0), marker='>', transform=ax.get_yaxis_transform(), **arrow_fmt)\n",
    "    ax.plot((0), (1), marker='^', transform=ax.get_xaxis_transform(), **arrow_fmt)\n",
    "\n",
    "    plt.show()\n",
    "\n",
    "plotVector((3,2))"
   ]
  },
  {
   "cell_type": "code",
   "execution_count": 11,
   "id": "peripheral-stranger",
   "metadata": {},
   "outputs": [
    {
     "data": {
      "image/png": "[encoded data removed]",
      "text/plain": [
       "<Figure size 432x288 with 1 Axes>"
      ]
     },
     "metadata": {
      "needs_background": "light"
     },
     "output_type": "display_data"
    }
   ],
   "source": [
    "def plotLine(vector1,vector2, xmin=-5, ymin=-5, xmax=5,ymax=5, tick_Frequencty = 1): \n",
    "    \n",
    "\n",
    "    # Select length of axes and the space between tick labels\n",
    "    gridDims = [xmin, xmax, ymin, ymax]\n",
    "    ticks_frequency = 1\n",
    "\n",
    "\n",
    "    fig = plt.figure()\n",
    "    ax = fig.add_subplot(111)\n",
    "    \n",
    "    # Place the point and the line for the vector\n",
    "    scatter(vector1[0], vector1[1], s=25 ,marker='o')\n",
    "    scatter(vector2[0], vector2[1], s=25 ,marker='o')\n",
    "    plot((vector1[0],vector2[0]),(vector1[1], vector2[1]), '-', linewidth=1.5)\n",
    "    \n",
    "    # Set identical scales for both axes\n",
    "    ax.set(xlim=(xmin-1, xmax+1), ylim=(ymin-1, ymax+1), aspect='equal')\n",
    "\n",
    "    # Set bottom and left spines as x and y axes of coordinate system\n",
    "    ax.spines['bottom'].set_position('zero')\n",
    "    ax.spines['left'].set_position('zero')\n",
    "\n",
    "    # Remove top and right spines\n",
    "    ax.spines['top'].set_visible(False)\n",
    "    ax.spines['right'].set_visible(False)\n",
    "\n",
    "    # Create 'x' and 'y' labels placed at the end of the axes\n",
    "    ax.set_xlabel('x', size=14, labelpad=-24, x=1.03)\n",
    "    ax.set_ylabel('y', size=14, labelpad=-21, y=1.02, rotation=0)\n",
    "\n",
    "    # Create custom major ticks to determine position of tick labels\n",
    "    x_ticks = np.arange(xmin, xmax+1, ticks_frequency)\n",
    "    y_ticks = np.arange(ymin, ymax+1, ticks_frequency)\n",
    "    ax.set_xticks(x_ticks[x_ticks != 0])\n",
    "    ax.set_yticks(y_ticks[y_ticks != 0])\n",
    "\n",
    "\n",
    "    # Create minor ticks placed at each integer to enable drawing of minor grid\n",
    "    # lines: note that this has no effect in this example with ticks_frequency=1\n",
    "    ax.set_xticks(np.arange(xmin, xmax+1), minor=True)\n",
    "    ax.set_yticks(np.arange(ymin, ymax+1), minor=True)\n",
    "\n",
    "    # Draw major and minor grid lines\n",
    "    ax.grid(which='both', color='grey', linewidth=1, linestyle='-', alpha=0.2)\n",
    "\n",
    "    # Draw arrows\n",
    "    arrow_fmt = dict(markersize=4, color='black', clip_on=False)\n",
    "    ax.plot((1), (0), marker='>', transform=ax.get_yaxis_transform(), **arrow_fmt)\n",
    "    ax.plot((0), (1), marker='^', transform=ax.get_xaxis_transform(), **arrow_fmt)\n",
    "\n",
    "    plt.show()\n",
    "\n",
    "plotLine((1,4), (2,3))"
   ]
  },
  {
   "cell_type": "markdown",
   "id": "employed-workshop",
   "metadata": {},
   "source": [
    "### Creating Matrices\n",
    "Like creating a vector, creating a matrix simply consists of passing lists of elements to the array function\n",
    "In numpy, additional lists of values could be thought of as stacking atop the prior list of elements\n",
    "\n",
    "recall that matrices are canonically referred to in row(i), column(j) order from the top left of the matrix"
   ]
  },
  {
   "cell_type": "code",
   "execution_count": 12,
   "id": "destroyed-horror",
   "metadata": {},
   "outputs": [
    {
     "data": {
      "text/plain": [
       "array([[1, 2, 3],\n",
       "       [4, 5, 6]])"
      ]
     },
     "execution_count": 12,
     "metadata": {},
     "output_type": "execute_result"
    }
   ],
   "source": [
    "b = np.array(([1,2,3], [4,5,6]))\n",
    "b"
   ]
  },
  {
   "cell_type": "code",
   "execution_count": 13,
   "id": "collaborative-musician",
   "metadata": {},
   "outputs": [
    {
     "data": {
      "text/plain": [
       "(2, 3)"
      ]
     },
     "execution_count": 13,
     "metadata": {},
     "output_type": "execute_result"
    }
   ],
   "source": [
    "b.shape"
   ]
  },
  {
   "cell_type": "code",
   "execution_count": 14,
   "id": "humanitarian-supervisor",
   "metadata": {},
   "outputs": [
    {
     "data": {
      "text/plain": [
       "6"
      ]
     },
     "execution_count": 14,
     "metadata": {},
     "output_type": "execute_result"
    }
   ],
   "source": [
    "b.size"
   ]
  },
  {
   "cell_type": "code",
   "execution_count": 15,
   "id": "civilian-surge",
   "metadata": {},
   "outputs": [
    {
     "data": {
      "text/plain": [
       "dtype('int64')"
      ]
     },
     "execution_count": 15,
     "metadata": {},
     "output_type": "execute_result"
    }
   ],
   "source": [
    "b.dtype"
   ]
  },
  {
   "cell_type": "code",
   "execution_count": 16,
   "id": "nervous-furniture",
   "metadata": {},
   "outputs": [
    {
     "data": {
      "text/plain": [
       "<memory at 0x7fe878385d70>"
      ]
     },
     "execution_count": 16,
     "metadata": {},
     "output_type": "execute_result"
    }
   ],
   "source": [
    "b.data"
   ]
  },
  {
   "cell_type": "markdown",
   "id": "geological-temple",
   "metadata": {},
   "source": [
    "As with vectors, *Matrices* can be defined as a list of numers passed to the np.array function. \n",
    "The resulting array object has several properties:  \n",
    "> `shape` - a tuple of the dimensions of the array in (x,y)/(m,n) order  \n",
    "> `size` - an integer describing the number of elements in the array  \n",
    "> `dtype` - the underlying encoding of the numbers recorded in the array - relevant if ranges or rounding errors are a concern  \n",
    "> `ndim` - the number of dimensions in the array  \n",
    "> `data` - the actual values recorded in the array object  \n",
    "\n"
   ]
  },
  {
   "cell_type": "markdown",
   "id": "artificial-louisville",
   "metadata": {},
   "source": [
    "matrices can also be created by stacking vectors, building a matrix down\n",
    "the `column_stack` and `hstack` functions allow vectors and matrices to be combined by aligning rows\n",
    "the opposite functions `row_stack` and `vstack` have predictable functions`"
   ]
  },
  {
   "cell_type": "code",
   "execution_count": 17,
   "id": "entire-detection",
   "metadata": {},
   "outputs": [
    {
     "data": {
      "text/plain": [
       "array([[1, 2, 3],\n",
       "       [1, 1, 1]])"
      ]
     },
     "execution_count": 17,
     "metadata": {},
     "output_type": "execute_result"
    }
   ],
   "source": [
    "f=np.vstack((a,[1,1,1]))\n",
    "f"
   ]
  },
  {
   "cell_type": "code",
   "execution_count": 18,
   "id": "continuous-partnership",
   "metadata": {},
   "outputs": [
    {
     "data": {
      "text/plain": [
       "array([[1, 1],\n",
       "       [1, 2],\n",
       "       [1, 3]])"
      ]
     },
     "execution_count": 18,
     "metadata": {},
     "output_type": "execute_result"
    }
   ],
   "source": [
    "g = np.column_stack(([1,1,1],a))\n",
    "g"
   ]
  },
  {
   "cell_type": "markdown",
   "id": "secret-recommendation",
   "metadata": {},
   "source": [
    "### Creating Placeholder Arrays\n",
    "sometimes to capture the results of an operation it is useful to define a 'blank' matrix of a constant value  \n",
    "    in numpy the `zeros((dim))`, `ones((dim))`, and `empty((dim),fillVal)` functions can create such 'blank' matrices "
   ]
  },
  {
   "cell_type": "code",
   "execution_count": 19,
   "id": "cultural-spine",
   "metadata": {},
   "outputs": [
    {
     "data": {
      "text/plain": [
       "array([[1., 1., 1., 1.],\n",
       "       [1., 1., 1., 1.],\n",
       "       [1., 1., 1., 1.]])"
      ]
     },
     "execution_count": 19,
     "metadata": {},
     "output_type": "execute_result"
    }
   ],
   "source": [
    "c = np.ones((3,4))\n",
    "c"
   ]
  },
  {
   "cell_type": "code",
   "execution_count": 20,
   "id": "romantic-howard",
   "metadata": {},
   "outputs": [
    {
     "data": {
      "text/plain": [
       "(3, 4)"
      ]
     },
     "execution_count": 20,
     "metadata": {},
     "output_type": "execute_result"
    }
   ],
   "source": [
    "c.shape"
   ]
  },
  {
   "cell_type": "code",
   "execution_count": 21,
   "id": "aggregate-competition",
   "metadata": {},
   "outputs": [
    {
     "data": {
      "text/plain": [
       "12"
      ]
     },
     "execution_count": 21,
     "metadata": {},
     "output_type": "execute_result"
    }
   ],
   "source": [
    "c.size"
   ]
  },
  {
   "cell_type": "code",
   "execution_count": 22,
   "id": "noticed-mapping",
   "metadata": {},
   "outputs": [
    {
     "data": {
      "text/plain": [
       "dtype('float64')"
      ]
     },
     "execution_count": 22,
     "metadata": {},
     "output_type": "execute_result"
    }
   ],
   "source": [
    "c.dtype"
   ]
  },
  {
   "cell_type": "code",
   "execution_count": 23,
   "id": "matched-orchestra",
   "metadata": {},
   "outputs": [
    {
     "data": {
      "text/plain": [
       "<memory at 0x7fe878385e50>"
      ]
     },
     "execution_count": 23,
     "metadata": {},
     "output_type": "execute_result"
    }
   ],
   "source": [
    "c.data"
   ]
  },
  {
   "cell_type": "markdown",
   "id": "rolled-rogers",
   "metadata": {},
   "source": [
    "The data elements can be accessed with bracket `c[i,j]` indexing, as with vectors"
   ]
  },
  {
   "cell_type": "code",
   "execution_count": 24,
   "id": "ordinary-belarus",
   "metadata": {},
   "outputs": [
    {
     "data": {
      "image/png": "[encoded data removed]",
      "text/plain": [
       "<Figure size 432x288 with 1 Axes>"
      ]
     },
     "metadata": {
      "needs_background": "light"
     },
     "output_type": "display_data"
    }
   ],
   "source": [
    "c[1,1]\n",
    "plotVector(c[1,:])"
   ]
  },
  {
   "cell_type": "markdown",
   "id": "southeast-floating",
   "metadata": {},
   "source": [
    " note also that ranges along the axes of the array can be selected with the `:` operator\n",
    "the ranges selected by this method are inclusive of the left parameter and exclusive of the right  \n",
    "ie `c[0:2,1]` would extract the 2 element column vector containing the elements of c at (0,1) and (1,1) only"
   ]
  },
  {
   "cell_type": "code",
   "execution_count": 25,
   "id": "alike-layer",
   "metadata": {},
   "outputs": [
    {
     "data": {
      "text/plain": [
       "array([1., 1.])"
      ]
     },
     "execution_count": 25,
     "metadata": {},
     "output_type": "execute_result"
    }
   ],
   "source": [
    "c[0:2,1]"
   ]
  },
  {
   "cell_type": "markdown",
   "id": "organizational-product",
   "metadata": {},
   "source": [
    "The shape of an array can also be changed with `reshape`"
   ]
  },
  {
   "cell_type": "code",
   "execution_count": 26,
   "id": "medium-spoke",
   "metadata": {},
   "outputs": [
    {
     "data": {
      "text/plain": [
       "array([[1., 1., 1., 1., 1., 1.],\n",
       "       [1., 1., 1., 1., 1., 1.]])"
      ]
     },
     "execution_count": 26,
     "metadata": {},
     "output_type": "execute_result"
    }
   ],
   "source": [
    "d = c.reshape(2,6)\n",
    "d"
   ]
  },
  {
   "cell_type": "markdown",
   "id": "closing-flour",
   "metadata": {},
   "source": [
    "### Creating multidimensional matrices\n",
    "Multidimensional matrices a as simple to create as 2-D matrices"
   ]
  },
  {
   "cell_type": "code",
   "execution_count": 27,
   "id": "hazardous-nepal",
   "metadata": {},
   "outputs": [
    {
     "data": {
      "text/plain": [
       "array([[[0., 0., 0.],\n",
       "        [0., 0., 0.],\n",
       "        [0., 0., 0.]],\n",
       "\n",
       "       [[0., 0., 0.],\n",
       "        [0., 0., 0.],\n",
       "        [0., 0., 0.]],\n",
       "\n",
       "       [[0., 0., 0.],\n",
       "        [0., 0., 0.],\n",
       "        [0., 0., 0.]],\n",
       "\n",
       "       [[0., 0., 0.],\n",
       "        [0., 0., 0.],\n",
       "        [0., 0., 0.]]])"
      ]
     },
     "execution_count": 27,
     "metadata": {},
     "output_type": "execute_result"
    }
   ],
   "source": [
    "e = np.zeros((4,3,3))\n",
    "e"
   ]
  },
  {
   "cell_type": "code",
   "execution_count": 28,
   "id": "medieval-technical",
   "metadata": {},
   "outputs": [
    {
     "data": {
      "text/plain": [
       "(4, 3, 3)"
      ]
     },
     "execution_count": 28,
     "metadata": {},
     "output_type": "execute_result"
    }
   ],
   "source": [
    "e.shape"
   ]
  },
  {
   "cell_type": "markdown",
   "id": "unexpected-championship",
   "metadata": {},
   "source": [
    "### Operating on Numpy Vectors and Arrays\n",
    "operation on numpy vectors and arrays can occur in 2 major ways:  \n",
    "    *element-wise* - in which scalar operations are applied universally to shift and stretch a vector or array\n",
    "    *vector-wise* - in which matrix algebra is applied producing projections, rotations, convolutions, etc"
   ]
  },
  {
   "cell_type": "markdown",
   "id": "atlantic-singles",
   "metadata": {},
   "source": [
    "## Vectors and vector spaces\n",
    "Vectors are elements in a vector space  \n",
    "vector spaces are tautologically the set of all possible elements that they may contain\n",
    "\n",
    "in practice, we could define a vector space of no dimension as the element itself: \n",
    "    "
   ]
  },
  {
   "cell_type": "code",
   "execution_count": 29,
   "id": "innocent-lottery",
   "metadata": {},
   "outputs": [
    {
     "data": {
      "text/latex": [
       "\n",
       "\\begin{align}\n",
       "\\mathbb{R^0} = a \\in A\n",
       "\\end{align}\n"
      ],
      "text/plain": [
       "<IPython.core.display.Latex object>"
      ]
     },
     "metadata": {},
     "output_type": "display_data"
    }
   ],
   "source": [
    "%%latex\n",
    "\n",
    "\\begin{align}\n",
    "\\mathbb{R^0} = a \\in A\n",
    "\\end{align}"
   ]
  },
  {
   "cell_type": "markdown",
   "id": "efficient-spokesman",
   "metadata": {},
   "source": [
    "we could add a dimension and actually do something useful  \n",
    "this vector space in one dimension could have any sort of constraints  \n",
    "but it makes sense to work with the real numbers as examples  \n",
    "\n",
    "a more constrained vector space could be the integers, or even the set 1,2,3"
   ]
  },
  {
   "cell_type": "code",
   "execution_count": 30,
   "id": "drawn-lambda",
   "metadata": {},
   "outputs": [
    {
     "data": {
      "text/latex": [
       "\n",
       "\\begin{align}\n",
       "\\mathbb{R^1} \\to n = A[i] \\in A\n",
       "\\end{align}\n"
      ],
      "text/plain": [
       "<IPython.core.display.Latex object>"
      ]
     },
     "metadata": {},
     "output_type": "display_data"
    }
   ],
   "source": [
    "%%latex\n",
    "\n",
    "\\begin{align}\n",
    "\\mathbb{R^1} \\to n = A[i] \\in A\n",
    "\\end{align}"
   ]
  },
  {
   "cell_type": "markdown",
   "id": "norwegian-strain",
   "metadata": {},
   "source": [
    "Adding dimensions to a vector space expands the number of configurations that exist for a locked set of parameters  \n",
    "ie in the vector space a=[1,2],   \n",
    "there is only one configuration with the specific value of 1  \n",
    "in the a[0]  \n",
    "in the 2-dimensional vector space [1,2],[1,2],   \n",
    "there are now two configurations for which a[0] = 1,  \n",
    "a[0,0], and a[0,1]"
   ]
  },
  {
   "cell_type": "markdown",
   "id": "disturbed-probability",
   "metadata": {},
   "source": [
    "the classic setting for most people's first encounter with vectors is likely the algebra classroom,  \n",
    "where points and the 2-D coordinate axis were visualized as lines  \n",
    "a simple vector in 2D could be visualized as a line indicating the point (2,4)  \n",
    "\n",
    "We could think of the coordinate grid below as a vector space as well  \n",
    "the set of all points defined by intersecting lines on the grid,  \n",
    "that is the 100 points on the grid,  \n",
    "could be a 2-Dimensional vector space. \n",
    ">it is constrained in the x direction to the set `np.arange(10)`  \n",
    ">and it is constrained in the y direction to the set `np.arange(10)`  "
   ]
  },
  {
   "cell_type": "code",
   "execution_count": 31,
   "id": "removable-advertiser",
   "metadata": {},
   "outputs": [
    {
     "data": {
      "image/png": "[encoded data removed]",
      "text/plain": [
       "<Figure size 432x288 with 1 Axes>"
      ]
     },
     "metadata": {
      "needs_background": "light"
     },
     "output_type": "display_data"
    }
   ],
   "source": [
    "plotVector((2,4))"
   ]
  },
  {
   "cell_type": "markdown",
   "id": "leading-pattern",
   "metadata": {},
   "source": [
    "The point above is one representation of the 2D vector of integers (2,4)  \n",
    "Note that it has a *magnitude* in the x and y directions \n",
    "\n",
    "The line connecting that point to the origin is another way to conceptualize the vector (2,4)  \n",
    "Note that the line has a *length* and *orientation* fixed by the position of (2,4) in the coordinate grid above  \n"
   ]
  },
  {
   "cell_type": "markdown",
   "id": "blessed-directive",
   "metadata": {},
   "source": [
    "### Matrices and N-dimensional space arrays\n",
    "Increasing the dimensionality of a vector moves it into new, larger vector space.  \n",
    "Adding an element to the set in the vector space maintains dimensionality. \n",
    "a matrix expands a vector without changing its dimensionality  \n",
    "the vector: "
   ]
  },
  {
   "cell_type": "code",
   "execution_count": 32,
   "id": "suspected-permission",
   "metadata": {},
   "outputs": [
    {
     "data": {
      "text/latex": [
       "\\begin{align}\n",
       "[1,2] = \\overrightarrow{\\mathbb{v}} \\in \\mathbb{R^2}\n",
       "\\end{align}\n"
      ],
      "text/plain": [
       "<IPython.core.display.Latex object>"
      ]
     },
     "metadata": {},
     "output_type": "display_data"
    }
   ],
   "source": [
    "%%latex\n",
    "\\begin{align}\n",
    "[1,2] = \\overrightarrow{\\mathbb{v}} \\in \\mathbb{R^2}\n",
    "\\end{align}"
   ]
  },
  {
   "cell_type": "markdown",
   "id": "virgin-block",
   "metadata": {},
   "source": [
    "could be combined with the vector: "
   ]
  },
  {
   "cell_type": "code",
   "execution_count": 33,
   "id": "later-tolerance",
   "metadata": {},
   "outputs": [
    {
     "data": {
      "text/latex": [
       "\\begin{align}\n",
       "[3,2] = \\overrightarrow{\\mathbb{v}} \\in \\mathbb{R^2}\n",
       "\\end{align}\n"
      ],
      "text/plain": [
       "<IPython.core.display.Latex object>"
      ]
     },
     "metadata": {},
     "output_type": "display_data"
    }
   ],
   "source": [
    "%%latex\n",
    "\\begin{align}\n",
    "[3,2] = \\overrightarrow{\\mathbb{v}} \\in \\mathbb{R^2}\n",
    "\\end{align}"
   ]
  },
  {
   "cell_type": "markdown",
   "id": "chemical-crisis",
   "metadata": {},
   "source": [
    "to create the 2-D matrix\n"
   ]
  },
  {
   "cell_type": "code",
   "execution_count": 34,
   "id": "neural-robin",
   "metadata": {},
   "outputs": [
    {
     "data": {
      "text/latex": [
       "\\begin{align}\n",
       "M = \\begin{bmatrix}\n",
       "1,2\\\\\n",
       "3,2\n",
       "\\end{bmatrix} = \\overrightarrow{\\mathbb{v}} \\in \\mathbb{R^2}\n",
       "\\end{align}\n"
      ],
      "text/plain": [
       "<IPython.core.display.Latex object>"
      ]
     },
     "metadata": {},
     "output_type": "display_data"
    }
   ],
   "source": [
    "%%latex\n",
    "\\begin{align}\n",
    "M = \\begin{bmatrix}\n",
    "1,2\\\\\n",
    "3,2\n",
    "\\end{bmatrix} = \\overrightarrow{\\mathbb{v}} \\in \\mathbb{R^2}\n",
    "\\end{align}"
   ]
  },
  {
   "cell_type": "markdown",
   "id": "cordless-tooth",
   "metadata": {},
   "source": [
    "The matrix now describes 2 points within the vectorspace $$\\mathbb{R^2}$$  \n",
    "this could also describe a line in this vectorspace that contains the two points represented by rows in this matrix"
   ]
  },
  {
   "cell_type": "code",
   "execution_count": 35,
   "id": "turkish-canal",
   "metadata": {},
   "outputs": [
    {
     "data": {
      "image/png": "[encoded data removed]",
      "text/plain": [
       "<Figure size 432x288 with 1 Axes>"
      ]
     },
     "metadata": {
      "needs_background": "light"
     },
     "output_type": "display_data"
    }
   ],
   "source": [
    "plotLine((1,2), (3,2))"
   ]
  },
  {
   "cell_type": "markdown",
   "id": "distant-milwaukee",
   "metadata": {},
   "source": [
    "N-dimensional arrays can be constructed by adding axes to a coordinate system or otherwise defining orthogonal features \n",
    "smaller dimensional arrays define subsets of N-dimensional space similarly to how  \n",
    "a vector defines a point in 2D space and a 2D matrix defines a line in 2D space  \n",
    "a 3 dimensional matrix defines a 3D volume in 3D space\n"
   ]
  },
  {
   "cell_type": "markdown",
   "id": "grateful-suffering",
   "metadata": {},
   "source": [
    "## Vector and matrix operations\n",
    "Just as vectors and matrices have geometric paralells, operations on them also have their pairs\n",
    "> in 1 dimension - Scalar addition and multiplication both move a point along the metric axis    \n",
    ">      there is no vector addition or multiplication possible in just 1 dimension  \n",
    "> in 2 dimensions - Scalar addition shifts in one or both dimensions, and multiplication lengthens  \n",
    ">      Vector operations perform more complex manipulations on matrices  \n"
   ]
  },
  {
   "cell_type": "markdown",
   "id": "extreme-bosnia",
   "metadata": {},
   "source": [
    "Consider the following simple operations: "
   ]
  },
  {
   "cell_type": "code",
   "execution_count": 36,
   "id": "automated-equipment",
   "metadata": {},
   "outputs": [
    {
     "data": {
      "text/latex": [
       "\\begin{align}\n",
       "2 * [1,2] = [2,4]\n",
       "\\end{align}\n"
      ],
      "text/plain": [
       "<IPython.core.display.Latex object>"
      ]
     },
     "metadata": {},
     "output_type": "display_data"
    }
   ],
   "source": [
    "%%latex\n",
    "\\begin{align}\n",
    "2 * [1,2] = [2,4]\n",
    "\\end{align}"
   ]
  },
  {
   "cell_type": "code",
   "execution_count": 37,
   "id": "clinical-training",
   "metadata": {},
   "outputs": [
    {
     "data": {
      "image/png": "[encoded data removed]",
      "text/plain": [
       "<Figure size 432x288 with 1 Axes>"
      ]
     },
     "metadata": {
      "needs_background": "light"
     },
     "output_type": "display_data"
    }
   ],
   "source": [
    "plotVector([1,2])"
   ]
  },
  {
   "cell_type": "code",
   "execution_count": 38,
   "id": "visible-logging",
   "metadata": {},
   "outputs": [
    {
     "data": {
      "image/png": "[encoded data removed]",
      "text/plain": [
       "<Figure size 432x288 with 1 Axes>"
      ]
     },
     "metadata": {
      "needs_background": "light"
     },
     "output_type": "display_data"
    }
   ],
   "source": [
    "result = np.array([1,2]) * 2\n",
    "plotVector(result)"
   ]
  },
  {
   "cell_type": "code",
   "execution_count": 39,
   "id": "demonstrated-blink",
   "metadata": {},
   "outputs": [
    {
     "data": {
      "image/png": "[encoded data removed]",
      "text/plain": [
       "<Figure size 432x288 with 1 Axes>"
      ]
     },
     "metadata": {
      "needs_background": "light"
     },
     "output_type": "display_data"
    }
   ],
   "source": [
    "plotVector([2,4])"
   ]
  },
  {
   "cell_type": "markdown",
   "id": "impaired-architecture",
   "metadata": {},
   "source": [
    "similarly adding vectors can shift a point along the orthogonal coordinate axes"
   ]
  },
  {
   "cell_type": "code",
   "execution_count": 41,
   "id": "international-amber",
   "metadata": {},
   "outputs": [
    {
     "data": {
      "text/latex": [
       "\\begin{align}\n",
       "[3,4] + [1,2] = [4,6]\n",
       "\\end{align}\n"
      ],
      "text/plain": [
       "<IPython.core.display.Latex object>"
      ]
     },
     "metadata": {},
     "output_type": "display_data"
    }
   ],
   "source": [
    "%%latex\n",
    "\\begin{align}\n",
    "[3,4] + [1,2] = [4,6]\n",
    "\\end{align}"
   ]
  },
  {
   "cell_type": "code",
   "execution_count": 42,
   "id": "junior-webcam",
   "metadata": {},
   "outputs": [
    {
     "data": {
      "image/png": "[encoded data removed]",
      "text/plain": [
       "<Figure size 432x288 with 1 Axes>"
      ]
     },
     "metadata": {
      "needs_background": "light"
     },
     "output_type": "display_data"
    }
   ],
   "source": [
    "plotVector([1,2])"
   ]
  },
  {
   "cell_type": "code",
   "execution_count": 43,
   "id": "prescription-society",
   "metadata": {},
   "outputs": [
    {
     "data": {
      "image/png": "[encoded data removed]",
      "text/plain": [
       "<Figure size 432x288 with 1 Axes>"
      ]
     },
     "metadata": {
      "needs_background": "light"
     },
     "output_type": "display_data"
    }
   ],
   "source": [
    "plotVector([3,4])"
   ]
  },
  {
   "cell_type": "code",
   "execution_count": 44,
   "id": "expanded-demand",
   "metadata": {},
   "outputs": [
    {
     "data": {
      "image/png": "[encoded data removed]",
      "text/plain": [
       "<Figure size 432x288 with 1 Axes>"
      ]
     },
     "metadata": {
      "needs_background": "light"
     },
     "output_type": "display_data"
    }
   ],
   "source": [
    "result = np.array([1,2]) + np.array([3,4])\n",
    "plotVector(result)"
   ]
  },
  {
   "cell_type": "markdown",
   "id": "allied-generator",
   "metadata": {},
   "source": [
    "More complex operations are possible when working in higher dimensional spaces  \n",
    "*Matrix Multiplication* or \"dot products\" are projections of one matrix onto another coordinate system\n",
    "\n",
    "\n"
   ]
  },
  {
   "cell_type": "markdown",
   "id": "alive-south",
   "metadata": {},
   "source": [
    "## Matrix properties 1 - Rank\n",
    "The matrix itself merits characterization  \n",
    "if a matrix defines a line in 2D and a plane in 3D, then it can be said to be consistent\n",
    "a consistent matrix corresponds to a system of linear equations with at least one solution\n",
    "\n",
    "the *rank* of a matrix can help determine if it defines a coherent geometry and has solutions\n",
    "The rank of a matrix is the number of 1 values in reduced row echelon form\n",
    "\n",
    "row reduction scales, adds, and subtracts the rows of the matrix until there are as many ones along the diagonal as possible\n",
    "row reduction generates a triangular matrix, with zeros in the lower corner"
   ]
  },
  {
   "cell_type": "code",
   "execution_count": 47,
   "id": "typical-nicaragua",
   "metadata": {},
   "outputs": [
    {
     "data": {
      "text/plain": [
       "1"
      ]
     },
     "execution_count": 47,
     "metadata": {},
     "output_type": "execute_result"
    }
   ],
   "source": [
    "np.linalg.matrix_rank(c)"
   ]
  },
  {
   "cell_type": "code",
   "execution_count": 53,
   "id": "outer-resident",
   "metadata": {},
   "outputs": [
    {
     "data": {
      "image/png": "[encoded data removed]",
      "text/plain": [
       "<Figure size 432x288 with 1 Axes>"
      ]
     },
     "metadata": {
      "needs_background": "light"
     },
     "output_type": "display_data"
    },
    {
     "data": {
      "text/plain": [
       "2"
      ]
     },
     "execution_count": 53,
     "metadata": {},
     "output_type": "execute_result"
    }
   ],
   "source": [
    "h=np.array(([1,2], [3,4]))\n",
    "plotLine(h[0], h[1])\n",
    "np.linalg.matrix_rank(h)"
   ]
  },
  {
   "cell_type": "markdown",
   "id": "outer-miami",
   "metadata": {},
   "source": [
    "above we see that matrix h defines a coherent set of points on the line between (1,2) and (3,4)  \n",
    "the rank of the matrix, 2, is the same an the number of rows, n=2 and the number of columns, m=2.   \n",
    "This implies that the system is consistent and has at most one solution"
   ]
  },
  {
   "cell_type": "markdown",
   "id": "binding-aruba",
   "metadata": {},
   "source": [
    "We'll also show below that the reduced row echelen form of the array provides the solution\n",
    "\n",
    "Using a reduced row echelon form matrix solver from:   https://stackoverflow.com/questions/7664246/python-built-in-function-to-do-matrix-reduction"
   ]
  },
  {
   "cell_type": "code",
   "execution_count": 59,
   "id": "challenging-liver",
   "metadata": {},
   "outputs": [
    {
     "data": {
      "text/plain": [
       "(array([[1, 0, 0, 0],\n",
       "        [0, 1, 0, 2],\n",
       "        [0, 0, 1, 0]]),\n",
       " [0, 1, 2])"
      ]
     },
     "execution_count": 59,
     "metadata": {},
     "output_type": "execute_result"
    }
   ],
   "source": [
    "def rref(A, tol=1.0e-12):\n",
    "    m, n = A.shape\n",
    "    i, j = 0, 0\n",
    "    jb = []\n",
    "\n",
    "    while i < m and j < n:\n",
    "        # Find value and index of largest element in the remainder of column j\n",
    "        k = np.argmax(np.abs(A[i:m, j])) + i\n",
    "        p = np.abs(A[k, j])\n",
    "        if p <= tol:\n",
    "            # The column is negligible, zero it out\n",
    "            A[i:m, j] = 0.0\n",
    "            j += 1\n",
    "        else:\n",
    "            # Remember the column index\n",
    "            jb.append(j)\n",
    "            if i != k:\n",
    "                # Swap the i-th and k-th rows\n",
    "                A[[i, k], j:n] = A[[k, i], j:n]\n",
    "            # Divide the pivot row i by the pivot element A[i, j]\n",
    "            A[i, j:n] = A[i, j:n] / A[i, j]\n",
    "            # Subtract multiples of the pivot row from all the other rows\n",
    "            for k in range(m):\n",
    "                if k != i:\n",
    "                    A[k, j:n] -= A[k, j] * A[i, j:n]\n",
    "            i += 1\n",
    "            j += 1\n",
    "    # Finished\n",
    "    return A, jb\n",
    "\n",
    "rref(h)\n"
   ]
  },
  {
   "cell_type": "markdown",
   "id": "honey-government",
   "metadata": {},
   "source": [
    "notice that a square matrix in reduced row echelon form is the identity matrix  \n",
    "an nxn matrix defines a system with a single result if rank()= n  \n",
    "The identity matrix defines that single result as distances along the coordinate axes of the vector space"
   ]
  },
  {
   "cell_type": "code",
   "execution_count": 61,
   "id": "incorrect-venture",
   "metadata": {},
   "outputs": [
    {
     "data": {
      "text/plain": [
       "(array([[1, 0, 0, 0],\n",
       "        [0, 1, 0, 2],\n",
       "        [0, 0, 1, 0]]),\n",
       " [0, 1, 2])"
      ]
     },
     "execution_count": 61,
     "metadata": {},
     "output_type": "execute_result"
    }
   ],
   "source": [
    "z=np.array(([1,2,3,4],[4,2,5,1],[4,1,8,1]))\n",
    "rref(z)"
   ]
  },
  {
   "cell_type": "markdown",
   "id": "adapted-kitty",
   "metadata": {},
   "source": [
    "a rectangular matrix on the other hand have different rrefs  \n",
    "the z matrix above has more columns than rows, and so rank(z) < m  \n",
    "this implies the system has infinite solutions or no solutions. \n",
    "\n",
    "if we had another row to constrain the system we would again have a square matrix that might have a singular solution"
   ]
  },
  {
   "cell_type": "code",
   "execution_count": null,
   "id": "affiliated-support",
   "metadata": {},
   "outputs": [],
   "source": []
  }
 ],
 "metadata": {
  "kernelspec": {
   "display_name": "Python 3",
   "language": "python",
   "name": "python3"
  },
  "language_info": {
   "codemirror_mode": {
    "name": "ipython",
    "version": 3
   },
   "file_extension": ".py",
   "mimetype": "text/x-python",
   "name": "python",
   "nbconvert_exporter": "python",
   "pygments_lexer": "ipython3",
   "version": "3.7.9"
  }
 },
 "nbformat": 4,
 "nbformat_minor": 5
}
