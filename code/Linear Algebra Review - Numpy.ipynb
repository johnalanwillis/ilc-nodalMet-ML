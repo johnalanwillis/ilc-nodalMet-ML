{
 "cells": [
  {
   "cell_type": "markdown",
   "id": "crazy-coast",
   "metadata": {},
   "source": [
    "# Linear Algebra Review - Numpy"
   ]
  },
  {
   "cell_type": "markdown",
   "id": "environmental-interaction",
   "metadata": {},
   "source": [
    "## Introduction\n",
    "Images are represented in python as matrices\n",
    "The meaning of the numbers recorded in those matrices varies depending on the coordinate system employed, but the matrix is the operational form of the image\n",
    "\n",
    "Fortunately, matrix manipulation underlies much of scientific computing, so many libraries in different languages have been developed to facilitate effecient matrix computation\n",
    "`Numpy` is one such package for python: https://numpy.org/\n",
    "Numpy abstracts away much of the complexities of memory management associated with large scale matrix operations that must be explicitly managed in old-school scientific computing in C or Fortran\n",
    "\n",
    "`Scipy` builds on the `numpy` foundation by including functions that perform frequently-used matrix operations used in the sciences\n",
    "\n",
    "While numpy interface makes matrix operations straightforward, the reviewing the linear algebra that underlies much of the image processing we'll be performing is worthwhile\n",
    "\n",
    "Below I'll be reviewing both the use of numpy and demonstrating basic principles of linear algebra with it. "
   ]
  },
  {
   "cell_type": "markdown",
   "id": "sorted-cholesterol",
   "metadata": {},
   "source": [
    "## Index\n",
    "* [Introduction] (#Introduction)\n",
    "* [Lit and linnks] (#lit-and-links)\n",
    "* [Using Numpy] (#using-numpy)\n",
    "* [Creating Vectors] (#creating-vectors-and-matrices)\n",
    "* [Coordinate Systems] (#thresholding)\n",
    "* [Vector Multiplication] (#opening-and-closing)\n",
    "* [De-noising] (#de-noising)\n",
    "* [Edge Detection] (#edge-detection)\n",
    "* [Image Normalization] (#image-normalization)\n",
    "* [Color Normalization] (#color-normalizaiton)\n",
    "* [object detection] (#object-detection)\n",
    "* [object characterization) (#object characterization)"
   ]
  },
  {
   "cell_type": "markdown",
   "id": "norwegian-miracle",
   "metadata": {},
   "source": [
    "## Using Numpy\n",
    "Numpy offers an interface for vector and matrix creation and manipulation\n"
   ]
  },
  {
   "cell_type": "markdown",
   "id": "liquid-administrator",
   "metadata": {},
   "source": [
    "### Creating Vectors\n",
    "creating a vector is simple in numpy  \n",
    "simply pass the contents of the vector as a tuple or list to the array function"
   ]
  },
  {
   "cell_type": "code",
   "execution_count": 1,
   "id": "undefined-focus",
   "metadata": {},
   "outputs": [
    {
     "data": {
      "text/plain": [
       "array([1, 2, 3])"
      ]
     },
     "execution_count": 1,
     "metadata": {},
     "output_type": "execute_result"
    }
   ],
   "source": [
    "import numpy as np\n",
    "\n",
    "a = np.array([1,2,3])\n",
    "a"
   ]
  },
  {
   "cell_type": "code",
   "execution_count": 2,
   "id": "banned-concentrate",
   "metadata": {},
   "outputs": [
    {
     "data": {
      "text/plain": [
       "(3,)"
      ]
     },
     "execution_count": 2,
     "metadata": {},
     "output_type": "execute_result"
    }
   ],
   "source": [
    "a.shape"
   ]
  },
  {
   "cell_type": "code",
   "execution_count": 3,
   "id": "documented-citizen",
   "metadata": {},
   "outputs": [
    {
     "data": {
      "text/plain": [
       "3"
      ]
     },
     "execution_count": 3,
     "metadata": {},
     "output_type": "execute_result"
    }
   ],
   "source": [
    "a.size"
   ]
  },
  {
   "cell_type": "code",
   "execution_count": 4,
   "id": "traditional-supplier",
   "metadata": {},
   "outputs": [
    {
     "data": {
      "text/plain": [
       "dtype('int64')"
      ]
     },
     "execution_count": 4,
     "metadata": {},
     "output_type": "execute_result"
    }
   ],
   "source": [
    "a.dtype"
   ]
  },
  {
   "cell_type": "code",
   "execution_count": 5,
   "id": "acquired-allah",
   "metadata": {},
   "outputs": [
    {
     "data": {
      "text/plain": [
       "<memory at 0x7fe07ac8e940>"
      ]
     },
     "execution_count": 5,
     "metadata": {},
     "output_type": "execute_result"
    }
   ],
   "source": [
    "a.data"
   ]
  },
  {
   "cell_type": "markdown",
   "id": "alternative-thriller",
   "metadata": {},
   "source": [
    "As the above code shows, a *Vector* can be defined as a list of numers passed to the np.array function. \n",
    "The resulting array object has several properties:  \n",
    "> `shape` - a tuple of the dimensions of the array in (x,y)/(m,n) order  \n",
    "> `size` - an integer describing the number of elements in the array  \n",
    "> `dtype` - the underlying encoding of the numbers recorded in the array - relevant if   ranges or rounding errors are a concern  \n",
    "> `ndim` - the number of dimensions in the array  \n",
    "> `data` - the actual values recorded in the array object  \n"
   ]
  },
  {
   "cell_type": "markdown",
   "id": "invalid-vinyl",
   "metadata": {},
   "source": [
    "### Creating Matrices\n",
    "Like creating a vector, creating a matrix simply consists of passing lists of elements to the array function\n",
    "In numpy, additional lists of values could be thought of as stacking atop the prior list of elements"
   ]
  },
  {
   "cell_type": "code",
   "execution_count": 6,
   "id": "comfortable-issue",
   "metadata": {},
   "outputs": [
    {
     "data": {
      "text/plain": [
       "array([[1, 2, 3],\n",
       "       [4, 5, 6]])"
      ]
     },
     "execution_count": 6,
     "metadata": {},
     "output_type": "execute_result"
    }
   ],
   "source": [
    "b = np.array(([1,2,3], [4,5,6]))\n",
    "b"
   ]
  },
  {
   "cell_type": "code",
   "execution_count": 7,
   "id": "intended-element",
   "metadata": {},
   "outputs": [
    {
     "data": {
      "text/plain": [
       "(2, 3)"
      ]
     },
     "execution_count": 7,
     "metadata": {},
     "output_type": "execute_result"
    }
   ],
   "source": [
    "b.shape"
   ]
  },
  {
   "cell_type": "code",
   "execution_count": 8,
   "id": "right-forty",
   "metadata": {},
   "outputs": [
    {
     "data": {
      "text/plain": [
       "6"
      ]
     },
     "execution_count": 8,
     "metadata": {},
     "output_type": "execute_result"
    }
   ],
   "source": [
    "b.size"
   ]
  },
  {
   "cell_type": "code",
   "execution_count": 9,
   "id": "greatest-weather",
   "metadata": {},
   "outputs": [
    {
     "data": {
      "text/plain": [
       "dtype('int64')"
      ]
     },
     "execution_count": 9,
     "metadata": {},
     "output_type": "execute_result"
    }
   ],
   "source": [
    "b.dtype"
   ]
  },
  {
   "cell_type": "code",
   "execution_count": 10,
   "id": "technological-school",
   "metadata": {},
   "outputs": [
    {
     "data": {
      "text/plain": [
       "<memory at 0x7fe07a76cf30>"
      ]
     },
     "execution_count": 10,
     "metadata": {},
     "output_type": "execute_result"
    }
   ],
   "source": [
    "b.data"
   ]
  },
  {
   "cell_type": "markdown",
   "id": "mediterranean-spectrum",
   "metadata": {},
   "source": [
    "As with vectors, *Matrices* can be defined as a list of numers passed to the np.array function. \n",
    "The resulting array object has several properties:  \n",
    "> `shape` - a tuple of the dimensions of the array in (x,y)/(m,n) order  \n",
    "> `size` - an integer describing the number of elements in the array  \n",
    "> `dtype` - the underlying encoding of the numbers recorded in the array - relevant if ranges or rounding errors are a concern  \n",
    "> `ndim` - the number of dimensions in the array  \n",
    "> `data` - the actual values recorded in the array object  \n",
    "\n"
   ]
  },
  {
   "cell_type": "markdown",
   "id": "communist-outline",
   "metadata": {},
   "source": [
    "### Creating Placeholder Arrays\n",
    "sometimes to capture the results of an operation it is useful to define a 'blank' matrix of a constant value  \n",
    "    in numpy the `zeros((dim))`, `ones((dim))`, and `empty((dim),fillVal)` functions can create such 'blank' matrices "
   ]
  },
  {
   "cell_type": "code",
   "execution_count": 11,
   "id": "stopped-davis",
   "metadata": {},
   "outputs": [
    {
     "data": {
      "text/plain": [
       "array([[1., 1., 1., 1.],\n",
       "       [1., 1., 1., 1.],\n",
       "       [1., 1., 1., 1.]])"
      ]
     },
     "execution_count": 11,
     "metadata": {},
     "output_type": "execute_result"
    }
   ],
   "source": [
    "c = np.ones((3,4))\n",
    "c"
   ]
  },
  {
   "cell_type": "code",
   "execution_count": 12,
   "id": "federal-lodging",
   "metadata": {},
   "outputs": [
    {
     "data": {
      "text/plain": [
       "(3, 4)"
      ]
     },
     "execution_count": 12,
     "metadata": {},
     "output_type": "execute_result"
    }
   ],
   "source": [
    "c.shape"
   ]
  },
  {
   "cell_type": "code",
   "execution_count": 13,
   "id": "knowing-reservation",
   "metadata": {},
   "outputs": [
    {
     "data": {
      "text/plain": [
       "12"
      ]
     },
     "execution_count": 13,
     "metadata": {},
     "output_type": "execute_result"
    }
   ],
   "source": [
    "c.size"
   ]
  },
  {
   "cell_type": "code",
   "execution_count": 14,
   "id": "literary-melbourne",
   "metadata": {},
   "outputs": [
    {
     "data": {
      "text/plain": [
       "dtype('float64')"
      ]
     },
     "execution_count": 14,
     "metadata": {},
     "output_type": "execute_result"
    }
   ],
   "source": [
    "c.dtype"
   ]
  },
  {
   "cell_type": "code",
   "execution_count": 15,
   "id": "secret-isolation",
   "metadata": {},
   "outputs": [
    {
     "data": {
      "text/plain": [
       "<memory at 0x7fe07aceef30>"
      ]
     },
     "execution_count": 15,
     "metadata": {},
     "output_type": "execute_result"
    }
   ],
   "source": [
    "c.data"
   ]
  },
  {
   "cell_type": "markdown",
   "id": "motivated-chain",
   "metadata": {},
   "source": [
    "### Plotting Vectors in matplotlib\n",
    "Visualization can be helpful in understanding what linear operations are doing  \n",
    "using matplotlib, we can view our vectors and the results of transformations on them  \n",
    "source: https://stackoverflow.com/questions/13430231/how-i-can-get-cartesian-coordinate-system-in-matplotlib\n",
    "\n",
    "Remeber that a vector is many things\n",
    "> a collection of numbers\n",
    "> a set of distances along a coordinate axis\n",
    "> a point representing the distances along each orthogonal coordinate aspect specified \n",
    "> a line in space connecting the origin to the point in n-dimensional space\n",
    "> A solution to an infinite number of linear equations\n"
   ]
  },
  {
   "cell_type": "code",
   "execution_count": 16,
   "id": "third-dragon",
   "metadata": {},
   "outputs": [
    {
     "data": {
      "image/png": "[encoded data removed]",
      "text/plain": [
       "<Figure size 432x288 with 1 Axes>"
      ]
     },
     "metadata": {
      "needs_background": "light"
     },
     "output_type": "display_data"
    }
   ],
   "source": [
    "from pylab import *\n",
    "import matplotlib.pyplot as plt\n",
    "\n",
    "x = [0,2,-3,-1.5]\n",
    "y = [0,3,1,-2.5]\n",
    "color=['m','g','r','b']\n",
    "\n",
    "# Select length of axes and the space between tick labels\n",
    "xmin, xmax, ymin, ymax = -5, 5, -5, 5\n",
    "ticks_frequency = 1\n",
    "\n",
    "\n",
    "fig = plt.figure()\n",
    "ax = fig.add_subplot(111)\n",
    "\n",
    "scatter(x,y, s=100 ,marker='o', c=color)\n",
    "\n",
    "[ plot( [dot_x,dot_x] ,[0,dot_y], '-', linewidth = 3 ) for dot_x,dot_y in zip(x,y) ] \n",
    "[ plot( [0,dot_x] ,[dot_y,dot_y], '-', linewidth = 3 ) for dot_x,dot_y in zip(x,y) ]\n",
    "\n",
    "left,right = ax.get_xlim()\n",
    "low,high = ax.get_ylim()\n",
    "\n",
    "\n",
    "# Set identical scales for both axes\n",
    "ax.set(xlim=(xmin-1, xmax+1), ylim=(ymin-1, ymax+1), aspect='equal')\n",
    "\n",
    "# Set bottom and left spines as x and y axes of coordinate system\n",
    "ax.spines['bottom'].set_position('zero')\n",
    "ax.spines['left'].set_position('zero')\n",
    "\n",
    "# Remove top and right spines\n",
    "ax.spines['top'].set_visible(False)\n",
    "ax.spines['right'].set_visible(False)\n",
    "\n",
    "# Create 'x' and 'y' labels placed at the end of the axes\n",
    "ax.set_xlabel('x', size=14, labelpad=-24, x=1.03)\n",
    "ax.set_ylabel('y', size=14, labelpad=-21, y=1.02, rotation=0)\n",
    "\n",
    "# Create custom major ticks to determine position of tick labels\n",
    "x_ticks = np.arange(xmin, xmax+1, ticks_frequency)\n",
    "y_ticks = np.arange(ymin, ymax+1, ticks_frequency)\n",
    "ax.set_xticks(x_ticks[x_ticks != 0])\n",
    "ax.set_yticks(y_ticks[y_ticks != 0])\n",
    "\n",
    "\n",
    "# Create minor ticks placed at each integer to enable drawing of minor grid\n",
    "# lines: note that this has no effect in this example with ticks_frequency=1\n",
    "ax.set_xticks(np.arange(xmin, xmax+1), minor=True)\n",
    "ax.set_yticks(np.arange(ymin, ymax+1), minor=True)\n",
    "\n",
    "# Draw major and minor grid lines\n",
    "ax.grid(which='both', color='grey', linewidth=1, linestyle='-', alpha=0.2)\n",
    "\n",
    "# Draw arrows\n",
    "arrow_fmt = dict(markersize=4, color='black', clip_on=False)\n",
    "ax.plot((1), (0), marker='>', transform=ax.get_yaxis_transform(), **arrow_fmt)\n",
    "ax.plot((0), (1), marker='^', transform=ax.get_xaxis_transform(), **arrow_fmt)\n",
    "\n",
    "plt.show()\n",
    "\n"
   ]
  },
  {
   "cell_type": "code",
   "execution_count": 17,
   "id": "reported-blend",
   "metadata": {},
   "outputs": [
    {
     "data": {
      "image/png": "[encoded data removed]",
      "text/plain": [
       "<Figure size 432x288 with 1 Axes>"
      ]
     },
     "metadata": {
      "needs_background": "light"
     },
     "output_type": "display_data"
    }
   ],
   "source": [
    "#below, a simplified plot displays a vector r\n",
    "\n",
    "r=(1,2)\n",
    "\n",
    "fig = plt.figure()\n",
    "ax=fig.add_subplot(111)\n",
    "\n",
    "scatter(r[0],r[1], s=100, marker = \"o\", label = \"r\")\n",
    "\n",
    "plot([r[0],0],[r[1],0], '-', linewidth = 3)\n",
    "#plot((0,2),(0,2), '-', linewidth = 3)\n",
    "#plot((2,0),(2,0), '-', linewidth = 3)\n",
    "\n",
    "\n",
    "left,right = ax.get_xlim()\n",
    "low,high = ax.get_ylim()\n",
    "#arrow( left, 0, right -left, 0, length_includes_head = True, head_width = 0.15 )\n",
    "#arrow( 0, low, 0, high-low, length_includes_head = True, head_width = 0.15 ) \n",
    "\n",
    "grid()\n",
    "\n",
    "show()"
   ]
  },
  {
   "cell_type": "markdown",
   "id": "flying-chorus",
   "metadata": {},
   "source": [
    "### Vector plotting function\n",
    "This example needs to be digested into a more general function I can use to plot vectors\n"
   ]
  },
  {
   "cell_type": "code",
   "execution_count": 19,
   "id": "pacific-official",
   "metadata": {},
   "outputs": [
    {
     "data": {
      "image/png": "[encoded data removed]",
      "text/plain": [
       "<Figure size 432x288 with 1 Axes>"
      ]
     },
     "metadata": {
      "needs_background": "light"
     },
     "output_type": "display_data"
    }
   ],
   "source": [
    "def plotVector(vector, show_Components=True, xmin=-5, ymin=-5, xmax=5,ymax=5, tick_Frequencty = 1): \n",
    "    \n",
    "    # Extract the input vector to pass into the function\n",
    "    x = vector[0]\n",
    "    y = vector[1]\n",
    "    \n",
    "    # Select length of axes and the space between tick labels\n",
    "    gridDims = [xmin, xmax, ymin, ymax]\n",
    "    ticks_frequency = 1\n",
    "\n",
    "\n",
    "    fig = plt.figure()\n",
    "    ax = fig.add_subplot(111)\n",
    "    \n",
    "    # Place the point and the line for the vector\n",
    "    scatter(x,y, s=25 ,marker='o')\n",
    "    plot([x,0],[y,0], '-', linewidth=1.5)\n",
    "    \n",
    "    if show_Components:\n",
    "        plot([x,x], [0,y], '-', linewidth=1)\n",
    "        plot([0,x], [y,y], '-', linewidth=1)\n",
    "\n",
    "    # Set identical scales for both axes\n",
    "    ax.set(xlim=(xmin-1, xmax+1), ylim=(ymin-1, ymax+1), aspect='equal')\n",
    "\n",
    "    # Set bottom and left spines as x and y axes of coordinate system\n",
    "    ax.spines['bottom'].set_position('zero')\n",
    "    ax.spines['left'].set_position('zero')\n",
    "\n",
    "    # Remove top and right spines\n",
    "    ax.spines['top'].set_visible(False)\n",
    "    ax.spines['right'].set_visible(False)\n",
    "\n",
    "    # Create 'x' and 'y' labels placed at the end of the axes\n",
    "    ax.set_xlabel('x', size=14, labelpad=-24, x=1.03)\n",
    "    ax.set_ylabel('y', size=14, labelpad=-21, y=1.02, rotation=0)\n",
    "\n",
    "    # Create custom major ticks to determine position of tick labels\n",
    "    x_ticks = np.arange(xmin, xmax+1, ticks_frequency)\n",
    "    y_ticks = np.arange(ymin, ymax+1, ticks_frequency)\n",
    "    ax.set_xticks(x_ticks[x_ticks != 0])\n",
    "    ax.set_yticks(y_ticks[y_ticks != 0])\n",
    "\n",
    "\n",
    "    # Create minor ticks placed at each integer to enable drawing of minor grid\n",
    "    # lines: note that this has no effect in this example with ticks_frequency=1\n",
    "    ax.set_xticks(np.arange(xmin, xmax+1), minor=True)\n",
    "    ax.set_yticks(np.arange(ymin, ymax+1), minor=True)\n",
    "\n",
    "    # Draw major and minor grid lines\n",
    "    ax.grid(which='both', color='grey', linewidth=1, linestyle='-', alpha=0.2)\n",
    "\n",
    "    # Draw arrows\n",
    "    arrow_fmt = dict(markersize=4, color='black', clip_on=False)\n",
    "    ax.plot((1), (0), marker='>', transform=ax.get_yaxis_transform(), **arrow_fmt)\n",
    "    ax.plot((0), (1), marker='^', transform=ax.get_xaxis_transform(), **arrow_fmt)\n",
    "\n",
    "    plt.show()\n",
    "\n",
    "plotVector((3,2))"
   ]
  },
  {
   "cell_type": "code",
   "execution_count": null,
   "id": "bizarre-litigation",
   "metadata": {},
   "outputs": [],
   "source": []
  },
  {
   "cell_type": "code",
   "execution_count": null,
   "id": "vulnerable-sally",
   "metadata": {},
   "outputs": [],
   "source": []
  }
 ],
 "metadata": {
  "kernelspec": {
   "display_name": "Python 3",
   "language": "python",
   "name": "python3"
  },
  "language_info": {
   "codemirror_mode": {
    "name": "ipython",
    "version": 3
   },
   "file_extension": ".py",
   "mimetype": "text/x-python",
   "name": "python",
   "nbconvert_exporter": "python",
   "pygments_lexer": "ipython3",
   "version": "3.7.9"
  }
 },
 "nbformat": 4,
 "nbformat_minor": 5
}
